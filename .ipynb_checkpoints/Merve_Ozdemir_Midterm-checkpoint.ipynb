{
 "cells": [
  {
   "cell_type": "code",
   "execution_count": 1,
   "metadata": {
    "collapsed": true
   },
   "outputs": [],
   "source": [
    "import pandas as pd # pandas will be referred to as pd below\n",
    "import numpy\n",
    "import matplotlib.pyplot as plt\n",
    "import warnings\n",
    "warnings.filterwarnings('ignore')"
   ]
  },
  {
   "cell_type": "code",
   "execution_count": 2,
   "metadata": {
    "collapsed": true
   },
   "outputs": [],
   "source": [
    "data1 = pd.read_csv('blood_pressure_sbp_men_mmhg.csv')\n",
    "data2 = pd.read_csv('working_hours_per_week.csv')"
   ]
  },
  {
   "cell_type": "code",
   "execution_count": 3,
   "metadata": {},
   "outputs": [
    {
     "data": {
      "text/plain": [
       "(189, 30)"
      ]
     },
     "execution_count": 3,
     "metadata": {},
     "output_type": "execute_result"
    }
   ],
   "source": [
    "data1.shape"
   ]
  },
  {
   "cell_type": "code",
   "execution_count": 4,
   "metadata": {},
   "outputs": [
    {
     "data": {
      "text/plain": [
       "(126, 49)"
      ]
     },
     "execution_count": 4,
     "metadata": {},
     "output_type": "execute_result"
    }
   ],
   "source": [
    "data2.shape"
   ]
  },
  {
   "cell_type": "markdown",
   "metadata": {},
   "source": [
    "### Blood pressure / men data"
   ]
  },
  {
   "cell_type": "code",
   "execution_count": 5,
   "metadata": {
    "collapsed": true,
    "scrolled": true
   },
   "outputs": [],
   "source": [
    "#to convert data1 as we would like to show\n",
    "bloodPressure = pd.melt(data1, id_vars=['country'],var_name='Year', value_name='Blood_pressure')\n",
    "bloodPressure = bloodPressure.sort_values(['country', 'Year'])\n",
    "bloodPressure = bloodPressure.reset_index(drop=True)\n"
   ]
  },
  {
   "cell_type": "code",
   "execution_count": 6,
   "metadata": {},
   "outputs": [
    {
     "data": {
      "text/html": [
       "<div>\n",
       "<style>\n",
       "    .dataframe thead tr:only-child th {\n",
       "        text-align: right;\n",
       "    }\n",
       "\n",
       "    .dataframe thead th {\n",
       "        text-align: left;\n",
       "    }\n",
       "\n",
       "    .dataframe tbody tr th {\n",
       "        vertical-align: top;\n",
       "    }\n",
       "</style>\n",
       "<table border=\"1\" class=\"dataframe\">\n",
       "  <thead>\n",
       "    <tr style=\"text-align: right;\">\n",
       "      <th></th>\n",
       "      <th>country</th>\n",
       "      <th>Year</th>\n",
       "      <th>Blood_pressure</th>\n",
       "    </tr>\n",
       "  </thead>\n",
       "  <tbody>\n",
       "    <tr>\n",
       "      <th>0</th>\n",
       "      <td>Afghanistan</td>\n",
       "      <td>1980</td>\n",
       "      <td>125</td>\n",
       "    </tr>\n",
       "    <tr>\n",
       "      <th>1</th>\n",
       "      <td>Afghanistan</td>\n",
       "      <td>1981</td>\n",
       "      <td>125</td>\n",
       "    </tr>\n",
       "    <tr>\n",
       "      <th>2</th>\n",
       "      <td>Afghanistan</td>\n",
       "      <td>1982</td>\n",
       "      <td>125</td>\n",
       "    </tr>\n",
       "    <tr>\n",
       "      <th>3</th>\n",
       "      <td>Afghanistan</td>\n",
       "      <td>1983</td>\n",
       "      <td>125</td>\n",
       "    </tr>\n",
       "    <tr>\n",
       "      <th>4</th>\n",
       "      <td>Afghanistan</td>\n",
       "      <td>1984</td>\n",
       "      <td>125</td>\n",
       "    </tr>\n",
       "  </tbody>\n",
       "</table>\n",
       "</div>"
      ],
      "text/plain": [
       "       country  Year  Blood_pressure\n",
       "0  Afghanistan  1980             125\n",
       "1  Afghanistan  1981             125\n",
       "2  Afghanistan  1982             125\n",
       "3  Afghanistan  1983             125\n",
       "4  Afghanistan  1984             125"
      ]
     },
     "execution_count": 6,
     "metadata": {},
     "output_type": "execute_result"
    }
   ],
   "source": [
    "bloodPressure.head()"
   ]
  },
  {
   "cell_type": "code",
   "execution_count": 377,
   "metadata": {},
   "outputs": [
    {
     "data": {
      "text/html": [
       "<div>\n",
       "<style scoped>\n",
       "    .dataframe tbody tr th:only-of-type {\n",
       "        vertical-align: middle;\n",
       "    }\n",
       "\n",
       "    .dataframe tbody tr th {\n",
       "        vertical-align: top;\n",
       "    }\n",
       "\n",
       "    .dataframe thead th {\n",
       "        text-align: right;\n",
       "    }\n",
       "</style>\n",
       "<table border=\"1\" class=\"dataframe\">\n",
       "  <thead>\n",
       "    <tr style=\"text-align: right;\">\n",
       "      <th></th>\n",
       "      <th>Country</th>\n",
       "      <th>Year</th>\n",
       "      <th>Blood_pressure</th>\n",
       "    </tr>\n",
       "  </thead>\n",
       "  <tbody>\n",
       "    <tr>\n",
       "      <th>0</th>\n",
       "      <td>Afghanistan</td>\n",
       "      <td>1980</td>\n",
       "      <td>125</td>\n",
       "    </tr>\n",
       "    <tr>\n",
       "      <th>1</th>\n",
       "      <td>Afghanistan</td>\n",
       "      <td>1981</td>\n",
       "      <td>125</td>\n",
       "    </tr>\n",
       "    <tr>\n",
       "      <th>2</th>\n",
       "      <td>Afghanistan</td>\n",
       "      <td>1982</td>\n",
       "      <td>125</td>\n",
       "    </tr>\n",
       "    <tr>\n",
       "      <th>3</th>\n",
       "      <td>Afghanistan</td>\n",
       "      <td>1983</td>\n",
       "      <td>125</td>\n",
       "    </tr>\n",
       "    <tr>\n",
       "      <th>4</th>\n",
       "      <td>Afghanistan</td>\n",
       "      <td>1984</td>\n",
       "      <td>125</td>\n",
       "    </tr>\n",
       "  </tbody>\n",
       "</table>\n",
       "</div>"
      ],
      "text/plain": [
       "       Country  Year  Blood_pressure\n",
       "0  Afghanistan  1980             125\n",
       "1  Afghanistan  1981             125\n",
       "2  Afghanistan  1982             125\n",
       "3  Afghanistan  1983             125\n",
       "4  Afghanistan  1984             125"
      ]
     },
     "execution_count": 377,
     "metadata": {},
     "output_type": "execute_result"
    }
   ],
   "source": [
    "#manual solution to convert data1 as we would like to show\n",
    "#seriesList = []\n",
    "#for i in range(0,len(data1)):\n",
    "#    row = data1.iloc[i]\n",
    "#    columnList = row.index\n",
    "#    for eleman,year in zip(row[1:],columnList[1:]):\n",
    "#        newRow = pd.Series({'Country': row[0], 'Year': year, 'Blood_pressure': eleman})\n",
    "#        seriesList.append(newRow)\n",
    "#bloodPressure = pd.DataFrame(seriesList)\n",
    "#bloodPressure.head()"
   ]
  },
  {
   "cell_type": "code",
   "execution_count": 7,
   "metadata": {},
   "outputs": [
    {
     "data": {
      "text/plain": [
       "5481"
      ]
     },
     "execution_count": 7,
     "metadata": {},
     "output_type": "execute_result"
    }
   ],
   "source": [
    "len(bloodPressure)"
   ]
  },
  {
   "cell_type": "code",
   "execution_count": 8,
   "metadata": {
    "collapsed": true
   },
   "outputs": [],
   "source": [
    "bloodPressure['Year']= bloodPressure['Year'].astype('int64')"
   ]
  },
  {
   "cell_type": "code",
   "execution_count": 9,
   "metadata": {},
   "outputs": [
    {
     "name": "stdout",
     "output_type": "stream",
     "text": [
      "Blood Pressure original length: 5481\n",
      "Blood Pressure No missing length: 5481\n"
     ]
    }
   ],
   "source": [
    "print('Blood Pressure original length: '+ str(len(bloodPressure)))\n",
    "bloodPressure_NoMissing= bloodPressure.dropna() \n",
    "print('Blood Pressure No missing length: '+ str(len(bloodPressure_NoMissing)))"
   ]
  },
  {
   "cell_type": "markdown",
   "metadata": {},
   "source": [
    "### WorkingHours per week data"
   ]
  },
  {
   "cell_type": "code",
   "execution_count": 10,
   "metadata": {
    "collapsed": true
   },
   "outputs": [],
   "source": [
    "#to convert data2 as we would like to show\n",
    "workingHours = pd.melt(data2, id_vars=['country'],var_name='Year', value_name='Working_hours')\n",
    "workingHours = workingHours.sort_values(['country', 'Year'])\n",
    "workingHours = workingHours.reset_index(drop=True)"
   ]
  },
  {
   "cell_type": "code",
   "execution_count": 11,
   "metadata": {},
   "outputs": [
    {
     "data": {
      "text/html": [
       "<div>\n",
       "<style>\n",
       "    .dataframe thead tr:only-child th {\n",
       "        text-align: right;\n",
       "    }\n",
       "\n",
       "    .dataframe thead th {\n",
       "        text-align: left;\n",
       "    }\n",
       "\n",
       "    .dataframe tbody tr th {\n",
       "        vertical-align: top;\n",
       "    }\n",
       "</style>\n",
       "<table border=\"1\" class=\"dataframe\">\n",
       "  <thead>\n",
       "    <tr style=\"text-align: right;\">\n",
       "      <th></th>\n",
       "      <th>country</th>\n",
       "      <th>Year</th>\n",
       "      <th>Working_hours</th>\n",
       "    </tr>\n",
       "  </thead>\n",
       "  <tbody>\n",
       "    <tr>\n",
       "      <th>0</th>\n",
       "      <td>Albania</td>\n",
       "      <td>1970</td>\n",
       "      <td>NaN</td>\n",
       "    </tr>\n",
       "    <tr>\n",
       "      <th>1</th>\n",
       "      <td>Albania</td>\n",
       "      <td>1971</td>\n",
       "      <td>NaN</td>\n",
       "    </tr>\n",
       "    <tr>\n",
       "      <th>2</th>\n",
       "      <td>Albania</td>\n",
       "      <td>1972</td>\n",
       "      <td>NaN</td>\n",
       "    </tr>\n",
       "    <tr>\n",
       "      <th>3</th>\n",
       "      <td>Albania</td>\n",
       "      <td>1973</td>\n",
       "      <td>NaN</td>\n",
       "    </tr>\n",
       "    <tr>\n",
       "      <th>4</th>\n",
       "      <td>Albania</td>\n",
       "      <td>1974</td>\n",
       "      <td>NaN</td>\n",
       "    </tr>\n",
       "  </tbody>\n",
       "</table>\n",
       "</div>"
      ],
      "text/plain": [
       "   country  Year  Working_hours\n",
       "0  Albania  1970            NaN\n",
       "1  Albania  1971            NaN\n",
       "2  Albania  1972            NaN\n",
       "3  Albania  1973            NaN\n",
       "4  Albania  1974            NaN"
      ]
     },
     "execution_count": 11,
     "metadata": {},
     "output_type": "execute_result"
    }
   ],
   "source": [
    "workingHours.head()"
   ]
  },
  {
   "cell_type": "code",
   "execution_count": 381,
   "metadata": {},
   "outputs": [
    {
     "data": {
      "text/html": [
       "<div>\n",
       "<style scoped>\n",
       "    .dataframe tbody tr th:only-of-type {\n",
       "        vertical-align: middle;\n",
       "    }\n",
       "\n",
       "    .dataframe tbody tr th {\n",
       "        vertical-align: top;\n",
       "    }\n",
       "\n",
       "    .dataframe thead th {\n",
       "        text-align: right;\n",
       "    }\n",
       "</style>\n",
       "<table border=\"1\" class=\"dataframe\">\n",
       "  <thead>\n",
       "    <tr style=\"text-align: right;\">\n",
       "      <th></th>\n",
       "      <th>Country</th>\n",
       "      <th>Year</th>\n",
       "      <th>Working_hours</th>\n",
       "    </tr>\n",
       "  </thead>\n",
       "  <tbody>\n",
       "    <tr>\n",
       "      <th>0</th>\n",
       "      <td>Albania</td>\n",
       "      <td>1970</td>\n",
       "      <td>NaN</td>\n",
       "    </tr>\n",
       "    <tr>\n",
       "      <th>1</th>\n",
       "      <td>Albania</td>\n",
       "      <td>1971</td>\n",
       "      <td>NaN</td>\n",
       "    </tr>\n",
       "    <tr>\n",
       "      <th>2</th>\n",
       "      <td>Albania</td>\n",
       "      <td>1972</td>\n",
       "      <td>NaN</td>\n",
       "    </tr>\n",
       "    <tr>\n",
       "      <th>3</th>\n",
       "      <td>Albania</td>\n",
       "      <td>1973</td>\n",
       "      <td>NaN</td>\n",
       "    </tr>\n",
       "    <tr>\n",
       "      <th>4</th>\n",
       "      <td>Albania</td>\n",
       "      <td>1974</td>\n",
       "      <td>NaN</td>\n",
       "    </tr>\n",
       "  </tbody>\n",
       "</table>\n",
       "</div>"
      ],
      "text/plain": [
       "   Country  Year  Working_hours\n",
       "0  Albania  1970            NaN\n",
       "1  Albania  1971            NaN\n",
       "2  Albania  1972            NaN\n",
       "3  Albania  1973            NaN\n",
       "4  Albania  1974            NaN"
      ]
     },
     "execution_count": 381,
     "metadata": {},
     "output_type": "execute_result"
    }
   ],
   "source": [
    "#manual solution to convert data2 as we would like to show\n",
    "#seriesList = []\n",
    "#for i in range(0,len(data2)):\n",
    "#    row = data2.iloc[i]\n",
    "#    columnList = row.index\n",
    "#    for eleman,year in zip(row[1:],columnList[1:]):\n",
    "#        newRow = pd.Series({'Country': row[0], 'Year': year, 'Working_hours': eleman})\n",
    "#        seriesList.append(newRow)\n",
    "#workingHours = pd.DataFrame(seriesList)\n",
    "#workingHours.head()"
   ]
  },
  {
   "cell_type": "code",
   "execution_count": 12,
   "metadata": {},
   "outputs": [
    {
     "data": {
      "text/plain": [
       "6048"
      ]
     },
     "execution_count": 12,
     "metadata": {},
     "output_type": "execute_result"
    }
   ],
   "source": [
    "len(workingHours)"
   ]
  },
  {
   "cell_type": "code",
   "execution_count": 13,
   "metadata": {
    "collapsed": true
   },
   "outputs": [],
   "source": [
    "workingHours['Year']= workingHours['Year'].astype('int64')"
   ]
  },
  {
   "cell_type": "code",
   "execution_count": 14,
   "metadata": {},
   "outputs": [
    {
     "name": "stdout",
     "output_type": "stream",
     "text": [
      "Working Hours original length: 6048\n",
      "Working Hours No Missing length: 1643\n"
     ]
    }
   ],
   "source": [
    "print('Working Hours original length: '+ str(len(workingHours)))\n",
    "workingHours_NoMissing= workingHours.dropna() \n",
    "print('Working Hours No Missing length: '+ str(len(workingHours_NoMissing)))"
   ]
  },
  {
   "cell_type": "code",
   "execution_count": 15,
   "metadata": {},
   "outputs": [
    {
     "data": {
      "text/plain": [
       "RangeIndex(start=0, stop=1643, step=1)"
      ]
     },
     "execution_count": 15,
     "metadata": {},
     "output_type": "execute_result"
    }
   ],
   "source": [
    "workingHours_NoMissing.index = range(len(workingHours_NoMissing))\n",
    "workingHours_NoMissing.index"
   ]
  },
  {
   "cell_type": "code",
   "execution_count": 16,
   "metadata": {},
   "outputs": [
    {
     "data": {
      "text/html": [
       "<div>\n",
       "<style>\n",
       "    .dataframe thead tr:only-child th {\n",
       "        text-align: right;\n",
       "    }\n",
       "\n",
       "    .dataframe thead th {\n",
       "        text-align: left;\n",
       "    }\n",
       "\n",
       "    .dataframe tbody tr th {\n",
       "        vertical-align: top;\n",
       "    }\n",
       "</style>\n",
       "<table border=\"1\" class=\"dataframe\">\n",
       "  <thead>\n",
       "    <tr style=\"text-align: right;\">\n",
       "      <th></th>\n",
       "      <th>country</th>\n",
       "      <th>Year</th>\n",
       "      <th>Working_hours</th>\n",
       "    </tr>\n",
       "  </thead>\n",
       "  <tbody>\n",
       "    <tr>\n",
       "      <th>0</th>\n",
       "      <td>Albania</td>\n",
       "      <td>1998</td>\n",
       "      <td>39.0</td>\n",
       "    </tr>\n",
       "    <tr>\n",
       "      <th>1</th>\n",
       "      <td>Albania</td>\n",
       "      <td>2007</td>\n",
       "      <td>44.9</td>\n",
       "    </tr>\n",
       "    <tr>\n",
       "      <th>2</th>\n",
       "      <td>Albania</td>\n",
       "      <td>2008</td>\n",
       "      <td>42.2</td>\n",
       "    </tr>\n",
       "    <tr>\n",
       "      <th>3</th>\n",
       "      <td>Albania</td>\n",
       "      <td>2009</td>\n",
       "      <td>42.1</td>\n",
       "    </tr>\n",
       "    <tr>\n",
       "      <th>4</th>\n",
       "      <td>Albania</td>\n",
       "      <td>2010</td>\n",
       "      <td>41.1</td>\n",
       "    </tr>\n",
       "  </tbody>\n",
       "</table>\n",
       "</div>"
      ],
      "text/plain": [
       "   country  Year  Working_hours\n",
       "0  Albania  1998           39.0\n",
       "1  Albania  2007           44.9\n",
       "2  Albania  2008           42.2\n",
       "3  Albania  2009           42.1\n",
       "4  Albania  2010           41.1"
      ]
     },
     "execution_count": 16,
     "metadata": {},
     "output_type": "execute_result"
    }
   ],
   "source": [
    "workingHours_NoMissing.head()"
   ]
  },
  {
   "cell_type": "markdown",
   "metadata": {},
   "source": [
    "### Merging data frames"
   ]
  },
  {
   "cell_type": "code",
   "execution_count": 17,
   "metadata": {},
   "outputs": [
    {
     "name": "stdout",
     "output_type": "stream",
     "text": [
      "Length of main_data:  849\n"
     ]
    }
   ],
   "source": [
    "main_data = pd.merge(workingHours_NoMissing, bloodPressure_NoMissing) \n",
    "print('Length of main_data: ', len(main_data))"
   ]
  },
  {
   "cell_type": "code",
   "execution_count": 18,
   "metadata": {},
   "outputs": [
    {
     "data": {
      "text/html": [
       "<div>\n",
       "<style>\n",
       "    .dataframe thead tr:only-child th {\n",
       "        text-align: right;\n",
       "    }\n",
       "\n",
       "    .dataframe thead th {\n",
       "        text-align: left;\n",
       "    }\n",
       "\n",
       "    .dataframe tbody tr th {\n",
       "        vertical-align: top;\n",
       "    }\n",
       "</style>\n",
       "<table border=\"1\" class=\"dataframe\">\n",
       "  <thead>\n",
       "    <tr style=\"text-align: right;\">\n",
       "      <th></th>\n",
       "      <th>country</th>\n",
       "      <th>Year</th>\n",
       "      <th>Working_hours</th>\n",
       "      <th>Blood_pressure</th>\n",
       "    </tr>\n",
       "  </thead>\n",
       "  <tbody>\n",
       "    <tr>\n",
       "      <th>0</th>\n",
       "      <td>Albania</td>\n",
       "      <td>1998</td>\n",
       "      <td>39.0</td>\n",
       "      <td>132</td>\n",
       "    </tr>\n",
       "    <tr>\n",
       "      <th>1</th>\n",
       "      <td>Albania</td>\n",
       "      <td>2007</td>\n",
       "      <td>44.9</td>\n",
       "      <td>134</td>\n",
       "    </tr>\n",
       "    <tr>\n",
       "      <th>2</th>\n",
       "      <td>Albania</td>\n",
       "      <td>2008</td>\n",
       "      <td>42.2</td>\n",
       "      <td>134</td>\n",
       "    </tr>\n",
       "    <tr>\n",
       "      <th>3</th>\n",
       "      <td>Argentina</td>\n",
       "      <td>1990</td>\n",
       "      <td>41.8</td>\n",
       "      <td>128</td>\n",
       "    </tr>\n",
       "    <tr>\n",
       "      <th>4</th>\n",
       "      <td>Argentina</td>\n",
       "      <td>1991</td>\n",
       "      <td>41.7</td>\n",
       "      <td>127</td>\n",
       "    </tr>\n",
       "  </tbody>\n",
       "</table>\n",
       "</div>"
      ],
      "text/plain": [
       "     country  Year  Working_hours  Blood_pressure\n",
       "0    Albania  1998           39.0             132\n",
       "1    Albania  2007           44.9             134\n",
       "2    Albania  2008           42.2             134\n",
       "3  Argentina  1990           41.8             128\n",
       "4  Argentina  1991           41.7             127"
      ]
     },
     "execution_count": 18,
     "metadata": {},
     "output_type": "execute_result"
    }
   ],
   "source": [
    "main_data.head()"
   ]
  },
  {
   "cell_type": "code",
   "execution_count": 19,
   "metadata": {},
   "outputs": [
    {
     "data": {
      "text/plain": [
       "Int64Index([  0,   1,   2,   3,   4,   5,   6,   7,   8,   9,\n",
       "            ...\n",
       "            839, 840, 841, 842, 843, 844, 845, 846, 847, 848],\n",
       "           dtype='int64', length=849)"
      ]
     },
     "execution_count": 19,
     "metadata": {},
     "output_type": "execute_result"
    }
   ],
   "source": [
    "main_data.index"
   ]
  },
  {
   "cell_type": "code",
   "execution_count": 20,
   "metadata": {
    "collapsed": true
   },
   "outputs": [],
   "source": [
    "main_data['Year']= pd.to_numeric(main_data['Year'])\n",
    "main_data['Working_hours']= pd.to_numeric(main_data['Working_hours'])\n",
    "main_data['Blood_pressure']= pd.to_numeric(main_data['Blood_pressure'])"
   ]
  },
  {
   "cell_type": "markdown",
   "metadata": {},
   "source": [
    "### Counting Values of columns "
   ]
  },
  {
   "cell_type": "code",
   "execution_count": 21,
   "metadata": {},
   "outputs": [
    {
     "name": "stdout",
     "output_type": "stream",
     "text": [
      "United States    29\n",
      "South Korea      29\n",
      "Israel           29\n",
      "Chile            27\n",
      "Spain            23\n",
      "Name: country, dtype: int64\n",
      "\n",
      "Percentage\n",
      "0.0131578947368421\n"
     ]
    }
   ],
   "source": [
    "#for Country\n",
    "countCountry= main_data['country'].value_counts(sort= True, ascending=False, dropna=False)\n",
    "print(countCountry.head())\n",
    "\n",
    "print('\\nPercentage')\n",
    "countCountryPer= main_data['country'].value_counts(sort= True, ascending=False, dropna=False, normalize=True)\n",
    "print(countCountryPer.mean())"
   ]
  },
  {
   "cell_type": "code",
   "execution_count": 22,
   "metadata": {},
   "outputs": [
    {
     "name": "stdout",
     "output_type": "stream",
     "text": [
      "Year ranges from 1980 and to 2008\n",
      "2006    62\n",
      "2008    60\n",
      "2007    60\n",
      "2005    59\n",
      "2004    56\n",
      "Name: Year, dtype: int64\n",
      "Percentage\n",
      "2006    0.073027\n",
      "2008    0.070671\n",
      "2007    0.070671\n",
      "2005    0.069494\n",
      "2004    0.065960\n",
      "Name: Year, dtype: float64\n"
     ]
    }
   ],
   "source": [
    "#for Year\n",
    "print ('Year ranges from '+ str(main_data['Year'].min())+' and to '+ str(main_data['Year'].max()) )\n",
    "countYear= main_data['Year'].value_counts(sort= True, ascending=False, dropna=False)\n",
    "print(countYear.head())\n",
    "\n",
    "print('Percentage')\n",
    "countYearPer= main_data['Year'].value_counts(sort= True, ascending=False, normalize=True)\n",
    "print(countYearPer.head())"
   ]
  },
  {
   "cell_type": "code",
   "execution_count": 23,
   "metadata": {},
   "outputs": [
    {
     "name": "stdout",
     "output_type": "stream",
     "text": [
      "Working Hours ranges from 29.6 and to 63.0\n",
      "39.0     7\n",
      "41.5     8\n",
      "42.0     7\n",
      "43.5     6\n",
      "40.0    21\n",
      "Name: Working_hours, dtype: int64\n",
      "Percentage\n",
      "39.0    0.008245\n",
      "41.5    0.009423\n",
      "42.0    0.008245\n",
      "43.5    0.007067\n",
      "40.0    0.024735\n",
      "Name: Working_hours, dtype: float64\n"
     ]
    }
   ],
   "source": [
    "#for Working Hours per week\n",
    "print ('Working Hours ranges from '+ str(main_data['Working_hours'].min())+' and to '+ str(main_data['Working_hours'].max()) )\n",
    "countWorkingHours= main_data['Working_hours'].value_counts(sort= False, dropna=False)\n",
    "print(countWorkingHours.head())\n",
    "\n",
    "print('Percentage')\n",
    "countWorkingHoursPer= main_data['Working_hours'].value_counts(sort= False, dropna=False, normalize=True)\n",
    "print(countWorkingHoursPer.head())"
   ]
  },
  {
   "cell_type": "code",
   "execution_count": 24,
   "metadata": {},
   "outputs": [
    {
     "name": "stdout",
     "output_type": "stream",
     "text": [
      "Blood Pressure ranges from 123 and to 139\n",
      "123     2\n",
      "124    16\n",
      "125    43\n",
      "126    49\n",
      "127    66\n",
      "Name: Blood_pressure, dtype: int64\n",
      "Percentage\n",
      "132    0.117786\n",
      "136    0.106007\n",
      "133    0.093051\n",
      "134    0.082450\n",
      "127    0.077739\n",
      "Name: Blood_pressure, dtype: float64\n"
     ]
    }
   ],
   "source": [
    "#for Blood Pressure\n",
    "print ('Blood Pressure ranges from '+ str(main_data['Blood_pressure'].min())+' and to '+ str(main_data['Blood_pressure'].max()) )\n",
    "countBloodPressure= main_data['Blood_pressure'].value_counts(sort= False, dropna=False)\n",
    "print(countBloodPressure.head())\n",
    "\n",
    "print('Percentage')\n",
    "countBloodPressurePer= main_data['Blood_pressure'].value_counts(sort=True, ascending=False,dropna=False, normalize=True)\n",
    "print(countBloodPressurePer.head())"
   ]
  },
  {
   "cell_type": "code",
   "execution_count": 25,
   "metadata": {},
   "outputs": [
    {
     "name": "stdout",
     "output_type": "stream",
     "text": [
      "Before dropna():  849\n",
      "Lenghth of the new dataframe: 849\n"
     ]
    }
   ],
   "source": [
    "#They both should return the same length\n",
    "print('Before dropna(): ', len(main_data))\n",
    "main_data= main_data.dropna(subset =['Working_hours','Blood_pressure'], how='any')\n",
    "\n",
    "main_data= main_data.reset_index(drop=True) # not to save old index as a column\n",
    "print('Lenghth of the new dataframe: '+str(len(main_data)))"
   ]
  },
  {
   "cell_type": "markdown",
   "metadata": {},
   "source": [
    "### Create Working Hours groups, describe and visualize data:"
   ]
  },
  {
   "cell_type": "code",
   "execution_count": 26,
   "metadata": {
    "scrolled": false
   },
   "outputs": [
    {
     "data": {
      "text/plain": [
       "count    849.000000\n",
       "mean      40.548292\n",
       "std        4.321952\n",
       "min       29.600000\n",
       "25%       37.500000\n",
       "50%       40.000000\n",
       "75%       42.700000\n",
       "max       63.000000\n",
       "Name: Working_hours, dtype: float64"
      ]
     },
     "execution_count": 26,
     "metadata": {},
     "output_type": "execute_result"
    }
   ],
   "source": [
    "main_data['Working_hours'].describe()"
   ]
  },
  {
   "cell_type": "code",
   "execution_count": 27,
   "metadata": {
    "collapsed": true
   },
   "outputs": [],
   "source": [
    "main_data['Working_hours_Group']= pd.cut(main_data['Working_hours'], [29,35,40,45,50,55,64])"
   ]
  },
  {
   "cell_type": "code",
   "execution_count": 28,
   "metadata": {},
   "outputs": [
    {
     "data": {
      "text/plain": [
       "(29, 35]     59\n",
       "(35, 40]    366\n",
       "(40, 45]    303\n",
       "(45, 50]     95\n",
       "(50, 55]     19\n",
       "(55, 64]      7\n",
       "Name: Working_hours_Group, dtype: int64"
      ]
     },
     "execution_count": 28,
     "metadata": {},
     "output_type": "execute_result"
    }
   ],
   "source": [
    "main_data['Working_hours_Group'].value_counts(sort= False, dropna=False)"
   ]
  },
  {
   "cell_type": "code",
   "execution_count": 29,
   "metadata": {},
   "outputs": [
    {
     "name": "stdout",
     "output_type": "stream",
     "text": [
      "849\n",
      "849\n"
     ]
    }
   ],
   "source": [
    "print(len(main_data))\n",
    "print(len(main_data['Working_hours_Group']))"
   ]
  },
  {
   "cell_type": "code",
   "execution_count": 30,
   "metadata": {},
   "outputs": [
    {
     "data": {
      "text/plain": [
       "count    516.000000\n",
       "mean     132.155039\n",
       "std        3.305658\n",
       "min      123.000000\n",
       "25%      130.000000\n",
       "50%      132.000000\n",
       "75%      135.000000\n",
       "max      139.000000\n",
       "Name: Blood_pressure, dtype: float64"
      ]
     },
     "execution_count": 30,
     "metadata": {},
     "output_type": "execute_result"
    }
   ],
   "source": [
    "main_data[main_data['Working_hours'] <= 41]['Blood_pressure'].describe()"
   ]
  },
  {
   "cell_type": "code",
   "execution_count": 31,
   "metadata": {},
   "outputs": [
    {
     "data": {
      "text/plain": [
       "count          849\n",
       "unique           6\n",
       "top       (35, 40]\n",
       "freq           366\n",
       "Name: Working_hours_Group, dtype: object"
      ]
     },
     "execution_count": 31,
     "metadata": {},
     "output_type": "execute_result"
    }
   ],
   "source": [
    "main_data['Working_hours_Group']= main_data['Working_hours_Group'].astype('category')\n",
    "main_data['Working_hours_Group'].describe()"
   ]
  },
  {
   "cell_type": "code",
   "execution_count": 32,
   "metadata": {
    "collapsed": true
   },
   "outputs": [],
   "source": [
    "def RenameValues (row):\n",
    "   if row['Working_hours'] > 29.0 and row['Working_hours']<= 35.0 :\n",
    "      return 1\n",
    "   if row['Working_hours'] > 35.0 and row['Working_hours']<= 40.0 :\n",
    "      return 2\n",
    "   if row['Working_hours'] > 40.0 and row['Working_hours']<= 45.0 :\n",
    "      return 3\n",
    "   if row['Working_hours'] > 45.0 and row['Working_hours']<= 50.0 :\n",
    "      return 4\n",
    "   if row['Working_hours'] > 50.0 and row['Working_hours']<= 55.0 :\n",
    "      return 5\n",
    "   if row['Working_hours'] > 55.0 and row['Working_hours']<= 64.0:\n",
    "      return 6"
   ]
  },
  {
   "cell_type": "code",
   "execution_count": 33,
   "metadata": {
    "collapsed": true
   },
   "outputs": [],
   "source": [
    "main_data['Working_hours_Group'] = main_data.apply (lambda row: RenameValues (row),axis=1)"
   ]
  },
  {
   "cell_type": "code",
   "execution_count": 34,
   "metadata": {},
   "outputs": [
    {
     "data": {
      "text/plain": [
       "1     59\n",
       "2    366\n",
       "3    303\n",
       "4     95\n",
       "5     19\n",
       "6      7\n",
       "Name: Working_hours_Group, dtype: int64"
      ]
     },
     "execution_count": 34,
     "metadata": {},
     "output_type": "execute_result"
    }
   ],
   "source": [
    "main_data['Working_hours_Group'].value_counts(sort= False, dropna=False)"
   ]
  },
  {
   "cell_type": "markdown",
   "metadata": {},
   "source": [
    "### Create Blood pressure Groups describe and visualize data: "
   ]
  },
  {
   "cell_type": "code",
   "execution_count": 35,
   "metadata": {},
   "outputs": [
    {
     "data": {
      "text/plain": [
       "count    849.000000\n",
       "mean     131.283863\n",
       "std        3.687784\n",
       "min      123.000000\n",
       "25%      128.000000\n",
       "50%      132.000000\n",
       "75%      134.000000\n",
       "max      139.000000\n",
       "Name: Blood_pressure, dtype: float64"
      ]
     },
     "execution_count": 35,
     "metadata": {},
     "output_type": "execute_result"
    }
   ],
   "source": [
    "main_data['Blood_pressure'].describe()"
   ]
  },
  {
   "cell_type": "code",
   "execution_count": 36,
   "metadata": {
    "collapsed": true
   },
   "outputs": [],
   "source": [
    "main_data['Blood_pressure_Groups'] = pd.cut(main_data['Blood_pressure'], [120,125,130,135,140])\n"
   ]
  },
  {
   "cell_type": "code",
   "execution_count": 37,
   "metadata": {},
   "outputs": [
    {
     "data": {
      "text/plain": [
       "(120, 125]     61\n",
       "(125, 130]    284\n",
       "(130, 135]    369\n",
       "(135, 140]    135\n",
       "Name: Blood_pressure_Groups, dtype: int64"
      ]
     },
     "execution_count": 37,
     "metadata": {},
     "output_type": "execute_result"
    }
   ],
   "source": [
    "main_data['Blood_pressure_Groups'].value_counts(sort= False, dropna=False)"
   ]
  },
  {
   "cell_type": "code",
   "execution_count": 38,
   "metadata": {
    "collapsed": true
   },
   "outputs": [],
   "source": [
    "def SBP (row):\n",
    "    if row['Blood_pressure'] <= 130 :\n",
    "        return 0\n",
    "    else:\n",
    "        return 1"
   ]
  },
  {
   "cell_type": "code",
   "execution_count": 39,
   "metadata": {},
   "outputs": [
    {
     "data": {
      "text/plain": [
       "1    504\n",
       "0    345\n",
       "Name: Blood_pressure_CAT, dtype: int64"
      ]
     },
     "execution_count": 39,
     "metadata": {},
     "output_type": "execute_result"
    }
   ],
   "source": [
    "main_data['Blood_pressure_CAT']= main_data.apply(lambda row : SBP(row), axis= 1)\n",
    "main_data['Blood_pressure_CAT'].value_counts()"
   ]
  },
  {
   "cell_type": "code",
   "execution_count": 40,
   "metadata": {},
   "outputs": [
    {
     "data": {
      "text/plain": [
       "count     849.000000\n",
       "mean     1999.605418\n",
       "std         6.700008\n",
       "min      1980.000000\n",
       "25%      1996.000000\n",
       "50%      2001.000000\n",
       "75%      2005.000000\n",
       "max      2008.000000\n",
       "Name: Year, dtype: float64"
      ]
     },
     "execution_count": 40,
     "metadata": {},
     "output_type": "execute_result"
    }
   ],
   "source": [
    "main_data['Year'].describe()"
   ]
  },
  {
   "cell_type": "markdown",
   "metadata": {},
   "source": [
    "# ANOVA TEST"
   ]
  },
  {
   "cell_type": "code",
   "execution_count": 41,
   "metadata": {
    "collapsed": true
   },
   "outputs": [],
   "source": [
    "import matplotlib.pyplot as plt\n",
    "import seaborn\n",
    "%matplotlib inline "
   ]
  },
  {
   "cell_type": "markdown",
   "metadata": {},
   "source": [
    "### Visualize the working hours distribution"
   ]
  },
  {
   "cell_type": "code",
   "execution_count": 42,
   "metadata": {},
   "outputs": [
    {
     "data": {
      "image/png": "[encoded data removed]",
      "text/plain": [
       "<matplotlib.figure.Figure at 0x7f5fe5d3ee10>"
      ]
     },
     "metadata": {},
     "output_type": "display_data"
    }
   ],
   "source": [
    "seaborn.countplot(x= 'Working_hours_Group', data= main_data)\n",
    "plt.xlabel('Working hours (per week) categories)')\n",
    "plt.title('Counts of rows for each category')\n",
    "plt.show()"
   ]
  },
  {
   "cell_type": "code",
   "execution_count": 43,
   "metadata": {},
   "outputs": [
    {
     "data": {
      "image/png": "[encoded data removed]",
      "text/plain": [
       "<matplotlib.figure.Figure at 0x7f5fe58b12e8>"
      ]
     },
     "metadata": {},
     "output_type": "display_data"
    }
   ],
   "source": [
    "seaborn.distplot(main_data['Working_hours'], kde=False)\n",
    "plt.xlabel('Working hours (per week) categories)')\n",
    "plt.title('Counts of rows for each value')\n",
    "plt.show()"
   ]
  },
  {
   "cell_type": "markdown",
   "metadata": {},
   "source": [
    "### Visualize the blood pressure distribution"
   ]
  },
  {
   "cell_type": "code",
   "execution_count": 44,
   "metadata": {},
   "outputs": [
    {
     "data": {
      "image/png": "[encoded data removed]",
      "text/plain": [
       "<matplotlib.figure.Figure at 0x7f5fe23a8160>"
      ]
     },
     "metadata": {},
     "output_type": "display_data"
    }
   ],
   "source": [
    "seaborn.distplot(main_data['Blood_pressure'], kde=False)\n",
    "plt.xlabel('Blood Pressure values')\n",
    "plt.title('Counts of rows for each value')\n",
    "plt.show()"
   ]
  },
  {
   "cell_type": "code",
   "execution_count": 45,
   "metadata": {},
   "outputs": [
    {
     "data": {
      "image/png": "[encoded data removed]",
      "text/plain": [
       "<matplotlib.figure.Figure at 0x7f5fe23a8358>"
      ]
     },
     "metadata": {},
     "output_type": "display_data"
    }
   ],
   "source": [
    "seaborn.countplot(x= 'Blood_pressure_CAT', data= main_data)\n",
    "plt.xlabel('Blood Pressure values (<=130 and >130)')\n",
    "plt.title('Counts of rows for each category')\n",
    "plt.show()"
   ]
  },
  {
   "cell_type": "code",
   "execution_count": 46,
   "metadata": {},
   "outputs": [
    {
     "data": {
      "text/plain": [
       "<matplotlib.axes._subplots.AxesSubplot at 0x7f5fe225f390>"
      ]
     },
     "execution_count": 46,
     "metadata": {},
     "output_type": "execute_result"
    },
    {
     "data": {
      "image/png": "[encoded data removed]",
      "text/plain": [
       "<matplotlib.figure.Figure at 0x7f5fe5d2cc18>"
      ]
     },
     "metadata": {},
     "output_type": "display_data"
    }
   ],
   "source": [
    "seaborn.regplot(x= \"Working_hours\", y= \"Blood_pressure\", fit_reg= True, data= main_data)"
   ]
  },
  {
   "cell_type": "code",
   "execution_count": 47,
   "metadata": {
    "collapsed": true
   },
   "outputs": [],
   "source": [
    "import statsmodels.formula.api as smf\n",
    "import statsmodels.stats.multicomp as multi "
   ]
  },
  {
   "cell_type": "code",
   "execution_count": 48,
   "metadata": {},
   "outputs": [
    {
     "name": "stdout",
     "output_type": "stream",
     "text": [
      "                            OLS Regression Results                            \n",
      "==============================================================================\n",
      "Dep. Variable:         Blood_pressure   R-squared:                       0.198\n",
      "Model:                            OLS   Adj. R-squared:                  0.193\n",
      "Method:                 Least Squares   F-statistic:                     41.60\n",
      "Date:                Mon, 01 Apr 2019   Prob (F-statistic):           2.48e-38\n",
      "Time:                        13:56:05   Log-Likelihood:                -2218.5\n",
      "No. Observations:                 849   AIC:                             4449.\n",
      "Df Residuals:                     843   BIC:                             4478.\n",
      "Df Model:                           5                                         \n",
      "Covariance Type:            nonrobust                                         \n",
      "===============================================================================================\n",
      "                                  coef    std err          t      P>|t|      [0.025      0.975]\n",
      "-----------------------------------------------------------------------------------------------\n",
      "Intercept                     131.3898      0.431    304.669      0.000     130.543     132.236\n",
      "C(Working_hours_Group)[T.2]     0.5255      0.465      1.131      0.258      -0.387       1.438\n",
      "C(Working_hours_Group)[T.3]     0.6927      0.471      1.469      0.142      -0.233       1.618\n",
      "C(Working_hours_Group)[T.4]    -3.7583      0.549     -6.845      0.000      -4.836      -2.681\n",
      "C(Working_hours_Group)[T.5]    -5.3372      0.874     -6.108      0.000      -7.052      -3.622\n",
      "C(Working_hours_Group)[T.6]    -4.8184      1.324     -3.639      0.000      -7.418      -2.219\n",
      "==============================================================================\n",
      "Omnibus:                       17.013   Durbin-Watson:                   0.297\n",
      "Prob(Omnibus):                  0.000   Jarque-Bera (JB):               15.026\n",
      "Skew:                          -0.266   Prob(JB):                     0.000546\n",
      "Kurtosis:                       2.623   Cond. No.                         14.3\n",
      "==============================================================================\n",
      "\n",
      "Warnings:\n",
      "[1] Standard Errors assume that the covariance matrix of the errors is correctly specified.\n"
     ]
    }
   ],
   "source": [
    "data3= main_data[['Working_hours_Group', 'Blood_pressure']]\n",
    "model1= smf.ols('Blood_pressure ~ C(Working_hours_Group)', data=data3)\n",
    "results= model1.fit()\n",
    "print(results.summary())"
   ]
  },
  {
   "cell_type": "code",
   "execution_count": 49,
   "metadata": {
    "scrolled": true
   },
   "outputs": [
    {
     "name": "stdout",
     "output_type": "stream",
     "text": [
      "Multiple Comparison of Means - Tukey HSD,FWER=0.05\n",
      "=============================================\n",
      "group1 group2 meandiff  lower   upper  reject\n",
      "---------------------------------------------\n",
      "  1      2     0.5255  -0.8019  1.8528 False \n",
      "  1      3     0.6927  -0.6537  2.039  False \n",
      "  1      4    -3.7583  -5.3266  -2.19   True \n",
      "  1      5    -5.3372   -7.833 -2.8414  True \n",
      "  1      6    -4.8184  -8.6007 -1.0361  True \n",
      "  2      3     0.1672  -0.5677  0.9021 False \n",
      "  2      4    -4.2837  -5.3732 -3.1943  True \n",
      "  2      5    -5.8627  -8.0889 -3.6364  True \n",
      "  2      6    -5.3439   -8.954 -1.7338  True \n",
      "  3      4    -4.4509  -5.5635 -3.3384  True \n",
      "  3      5    -6.0299  -8.2675 -3.7923  True \n",
      "  3      6    -5.5111  -9.1282 -1.8939  True \n",
      "  4      5    -1.5789  -3.9567  0.7988 False \n",
      "  4      6    -1.0602  -4.7656  2.6453 False \n",
      "  5      6     0.5188  -3.6645  4.7021 False \n",
      "---------------------------------------------\n"
     ]
    }
   ],
   "source": [
    "mc1 = multi.MultiComparison(main_data['Blood_pressure'], main_data['Working_hours_Group'])\n",
    "res1 = mc1.tukeyhsd()\n",
    "print(res1.summary())"
   ]
  },
  {
   "cell_type": "code",
   "execution_count": 50,
   "metadata": {
    "collapsed": true
   },
   "outputs": [],
   "source": [
    "#sonuca göre yeniden aralık belirleme ve ANOVA testine koymak\n",
    "def Working_hours_CAT(row):\n",
    "    if row['Working_hours'] < 45 :\n",
    "        return 1\n",
    "    else:\n",
    "        return 2"
   ]
  },
  {
   "cell_type": "code",
   "execution_count": 51,
   "metadata": {},
   "outputs": [
    {
     "data": {
      "text/plain": [
       "1    727\n",
       "2    122\n",
       "Name: Working_hours_CAT, dtype: int64"
      ]
     },
     "execution_count": 51,
     "metadata": {},
     "output_type": "execute_result"
    }
   ],
   "source": [
    "main_data['Working_hours_CAT']= main_data.apply(lambda row : Working_hours_CAT(row), axis= 1)\n",
    "main_data['Working_hours_CAT'].value_counts()"
   ]
  },
  {
   "cell_type": "code",
   "execution_count": 608,
   "metadata": {},
   "outputs": [
    {
     "name": "stdout",
     "output_type": "stream",
     "text": [
      "                            OLS Regression Results                            \n",
      "==============================================================================\n",
      "Dep. Variable:         Blood_pressure   R-squared:                       0.195\n",
      "Model:                            OLS   Adj. R-squared:                  0.194\n",
      "Method:                 Least Squares   F-statistic:                     205.1\n",
      "Date:                Mon, 01 Apr 2019   Prob (F-statistic):           8.09e-42\n",
      "Time:                        01:37:38   Log-Likelihood:                -2220.1\n",
      "No. Observations:                 849   AIC:                             4444.\n",
      "Df Residuals:                     847   BIC:                             4454.\n",
      "Df Model:                           1                                         \n",
      "Covariance Type:            nonrobust                                         \n",
      "=============================================================================================\n",
      "                                coef    std err          t      P>|t|      [0.025      0.975]\n",
      "---------------------------------------------------------------------------------------------\n",
      "Intercept                   131.9505      0.123   1074.592      0.000     131.709     132.191\n",
      "C(Working_hours_CAT)[T.2]    -4.6390      0.324    -14.321      0.000      -5.275      -4.003\n",
      "==============================================================================\n",
      "Omnibus:                       14.790   Durbin-Watson:                   0.293\n",
      "Prob(Omnibus):                  0.001   Jarque-Bera (JB):               12.486\n",
      "Skew:                          -0.226   Prob(JB):                      0.00194\n",
      "Kurtosis:                       2.614   Cond. No.                         2.92\n",
      "==============================================================================\n",
      "\n",
      "Warnings:\n",
      "[1] Standard Errors assume that the covariance matrix of the errors is correctly specified.\n"
     ]
    }
   ],
   "source": [
    "data4= main_data[['Working_hours_CAT', 'Blood_pressure']]\n",
    "model1= smf.ols('Blood_pressure ~ C(Working_hours_CAT)', data=data4)\n",
    "results= model1.fit()\n",
    "print(results.summary())"
   ]
  },
  {
   "cell_type": "code",
   "execution_count": 52,
   "metadata": {},
   "outputs": [
    {
     "name": "stdout",
     "output_type": "stream",
     "text": [
      "Multiple Comparison of Means - Tukey HSD,FWER=0.05\n",
      "=============================================\n",
      "group1 group2 meandiff  lower   upper  reject\n",
      "---------------------------------------------\n",
      "  1      2     -4.639  -5.2748 -4.0032  True \n",
      "---------------------------------------------\n"
     ]
    }
   ],
   "source": [
    "mc1 = multi.MultiComparison(main_data['Blood_pressure'], main_data['Working_hours_CAT'])\n",
    "res1 = mc1.tukeyhsd()\n",
    "print(res1.summary())"
   ]
  },
  {
   "cell_type": "markdown",
   "metadata": {},
   "source": [
    "#### with working hours categories / hangi grup daha büyük değere sahip"
   ]
  },
  {
   "cell_type": "code",
   "execution_count": 53,
   "metadata": {},
   "outputs": [
    {
     "data": {
      "text/plain": [
       "131.95048143053646"
      ]
     },
     "execution_count": 53,
     "metadata": {},
     "output_type": "execute_result"
    }
   ],
   "source": [
    "main_data[main_data['Working_hours_CAT'] == 1]['Blood_pressure'].mean()"
   ]
  },
  {
   "cell_type": "code",
   "execution_count": 54,
   "metadata": {},
   "outputs": [
    {
     "data": {
      "text/plain": [
       "127.31147540983606"
      ]
     },
     "execution_count": 54,
     "metadata": {},
     "output_type": "execute_result"
    }
   ],
   "source": [
    "main_data[main_data['Working_hours_CAT'] == 2]['Blood_pressure'].mean()"
   ]
  },
  {
   "cell_type": "markdown",
   "metadata": {},
   "source": [
    "#### with working hours groups / 6 kategoride halindeki karşılaştırmaları"
   ]
  },
  {
   "cell_type": "code",
   "execution_count": 55,
   "metadata": {},
   "outputs": [
    {
     "data": {
      "text/plain": [
       "126.57142857142857"
      ]
     },
     "execution_count": 55,
     "metadata": {},
     "output_type": "execute_result"
    }
   ],
   "source": [
    "main_data[main_data['Working_hours_Group'] == 6]['Blood_pressure'].mean()"
   ]
  },
  {
   "cell_type": "code",
   "execution_count": 56,
   "metadata": {},
   "outputs": [
    {
     "data": {
      "text/plain": [
       "126.05263157894737"
      ]
     },
     "execution_count": 56,
     "metadata": {},
     "output_type": "execute_result"
    }
   ],
   "source": [
    "main_data[main_data['Working_hours_Group'] == 5]['Blood_pressure'].mean()"
   ]
  },
  {
   "cell_type": "code",
   "execution_count": 57,
   "metadata": {},
   "outputs": [
    {
     "data": {
      "text/plain": [
       "127.63157894736842"
      ]
     },
     "execution_count": 57,
     "metadata": {},
     "output_type": "execute_result"
    }
   ],
   "source": [
    "main_data[main_data['Working_hours_Group'] == 4]['Blood_pressure'].mean()"
   ]
  },
  {
   "cell_type": "code",
   "execution_count": 58,
   "metadata": {},
   "outputs": [
    {
     "data": {
      "text/plain": [
       "132.08250825082507"
      ]
     },
     "execution_count": 58,
     "metadata": {},
     "output_type": "execute_result"
    }
   ],
   "source": [
    "main_data[main_data['Working_hours_Group'] == 3]['Blood_pressure'].mean()"
   ]
  },
  {
   "cell_type": "code",
   "execution_count": 59,
   "metadata": {},
   "outputs": [
    {
     "data": {
      "text/plain": [
       "131.9153005464481"
      ]
     },
     "execution_count": 59,
     "metadata": {},
     "output_type": "execute_result"
    }
   ],
   "source": [
    "main_data[main_data['Working_hours_Group'] == 2]['Blood_pressure'].mean()"
   ]
  },
  {
   "cell_type": "code",
   "execution_count": 60,
   "metadata": {},
   "outputs": [
    {
     "data": {
      "text/plain": [
       "131.38983050847457"
      ]
     },
     "execution_count": 60,
     "metadata": {},
     "output_type": "execute_result"
    }
   ],
   "source": [
    "main_data[main_data['Working_hours_Group'] == 1]['Blood_pressure'].mean()"
   ]
  },
  {
   "cell_type": "markdown",
   "metadata": {},
   "source": [
    "### korelasyon değeri "
   ]
  },
  {
   "cell_type": "code",
   "execution_count": 61,
   "metadata": {},
   "outputs": [
    {
     "name": "stdout",
     "output_type": "stream",
     "text": [
      "association between Working_hours and Blood_pressure\n",
      "(-0.33743052703168119, 4.7115721227651502e-24)\n"
     ]
    }
   ],
   "source": [
    "import scipy.stats\n",
    "print('association between Working_hours and Blood_pressure')\n",
    "print(scipy.stats.pearsonr(main_data['Working_hours'], main_data['Blood_pressure']))"
   ]
  },
  {
   "cell_type": "code",
   "execution_count": null,
   "metadata": {
    "collapsed": true
   },
   "outputs": [],
   "source": []
  },
  {
   "cell_type": "code",
   "execution_count": null,
   "metadata": {
    "collapsed": true
   },
   "outputs": [],
   "source": []
  },
  {
   "cell_type": "code",
   "execution_count": null,
   "metadata": {
    "collapsed": true
   },
   "outputs": [],
   "source": [
    "\n"
   ]
  },
  {
   "cell_type": "code",
   "execution_count": null,
   "metadata": {
    "collapsed": true
   },
   "outputs": [],
   "source": []
  }
 ],
 "metadata": {
  "kernelspec": {
   "display_name": "Python 3",
   "language": "python",
   "name": "python3"
  },
  "language_info": {
   "codemirror_mode": {
    "name": "ipython",
    "version": 3
   },
   "file_extension": ".py",
   "mimetype": "text/x-python",
   "name": "python",
   "nbconvert_exporter": "python",
   "pygments_lexer": "ipython3",
   "version": "3.6.1"
  }
 },
 "nbformat": 4,
 "nbformat_minor": 2
}
